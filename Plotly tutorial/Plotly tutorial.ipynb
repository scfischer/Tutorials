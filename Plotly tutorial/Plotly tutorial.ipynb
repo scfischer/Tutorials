{
 "cells": [
  {
   "cell_type": "markdown",
   "metadata": {},
   "source": [
    "### Why Plotly?\n",
    "\n",
    "Plotly provides an alternative to `matplotlib` with additional interactivity features and the option to save your figures as .html files. This allows the user to share interactive graphs without providing any of the code. Plotly is available for\n",
    "- Python\n",
    "- Julia\n",
    "- R\n",
    "- Matlab\n",
    "- F#\n",
    "\n",
    "### Two design philosophies\n",
    "\n",
    "Matplotlib already had two different design philosophies with the straighforward approach, i.e. simply using functions `plt.plot()`, and the object oriented approach using the `axes` class, \n",
    "````python\n",
    "ax = plt.axes()\n",
    "ax.plot([1,2,3])\n",
    "````\n",
    "\n",
    "Plotly's design is characterized by two packages. `plotly.graph_objs` contains the full functionality of plotly. However, it comes with a bit of a learning curve. `plotly.express` was later introduced with simplified syntax but reduced functionality.\n",
    "\n",
    "### `plotly.express`"
   ]
  },
  {
   "cell_type": "code",
   "execution_count": null,
   "metadata": {},
   "outputs": [],
   "source": [
    "import plotly.express as px\n",
    "import numpy as np\n",
    "\n",
    "x = np.linspace(0,2*np.pi,1000)\n",
    "y = np.sin(x) + np.random.normal(0,0.1,1000)\n",
    "\n",
    "fig = px.scatter(x=x, y=y)\n",
    "fig.show()"
   ]
  },
  {
   "cell_type": "code",
   "execution_count": null,
   "metadata": {},
   "outputs": [],
   "source": [
    "fig = px.line(x=x, y=y)\n",
    "fig.show()"
   ]
  },
  {
   "cell_type": "markdown",
   "metadata": {},
   "source": [
    "One of the ideas behind `plotly.express` is to plot your data directly from a given dictionary/dataframe"
   ]
  },
  {
   "cell_type": "code",
   "execution_count": null,
   "metadata": {},
   "outputs": [],
   "source": [
    "import pandas as pd\n",
    "data = pd.read_csv('CellData.csv')\n",
    "data.head()"
   ]
  },
  {
   "cell_type": "code",
   "execution_count": null,
   "metadata": {},
   "outputs": [],
   "source": [
    "px.scatter(data, x='x-Position', y='y-Position', color='Type')"
   ]
  },
  {
   "cell_type": "markdown",
   "metadata": {},
   "source": [
    "### `plotly.graph_objs`\n",
    "\n",
    "The above plot is created in a single line of code. It includes labels, legend and different colors. However, customizing a plot further often requires the use of `plotly.graph_objs` which is no longer based on dictionaries/dataframes. The same plot now requires more steps. The following code only creates the plot without any additional information:"
   ]
  },
  {
   "cell_type": "code",
   "execution_count": null,
   "metadata": {},
   "outputs": [],
   "source": [
    "import plotly.graph_objs as go\n",
    "\n",
    "fig= go.Figure()\n",
    "fig.add_trace(\n",
    "              go.Scatter(x=data['x-Position'], y=data['y-Position'], mode='markers')\n",
    ")\n",
    "fig.show()"
   ]
  },
  {
   "cell_type": "markdown",
   "metadata": {},
   "source": [
    "If we want different colors, we need to assign colors to every marker."
   ]
  },
  {
   "cell_type": "code",
   "execution_count": null,
   "metadata": {},
   "outputs": [],
   "source": [
    "colors = ['blue' if typ == 'N-G+' else 'red' for typ in data['Type']]\n",
    "\n",
    "fig= go.Figure()\n",
    "fig.add_trace(\n",
    "              go.Scatter(x=data['x-Position'], y=data['y-Position'], mode='markers',\n",
    "                         marker={'color': colors})\n",
    ")\n",
    "fig.show()"
   ]
  },
  {
   "cell_type": "markdown",
   "metadata": {},
   "source": [
    "Now we have colors, but there is still no legend, labels and hoverinfo besides the actual data. Every single type of information has to be added manually. This can often be quite tedious, see example:"
   ]
  },
  {
   "cell_type": "code",
   "execution_count": null,
   "metadata": {},
   "outputs": [],
   "source": [
    "info = '%{hovertext}<br>x-Position = %{x}<br>y-Position = %{y}<extra></extra>'\n",
    "N = data[data['Type'] == 'N+G-']\n",
    "G = data[data['Type'] == 'N-G+']\n",
    "            \n",
    "fig= go.Figure()\n",
    "fig.add_trace(\n",
    "              go.Scatter(x=N['x-Position'], y=N['y-Position'], mode='markers',\n",
    "                         marker = {'color': ['red']*len(N)},\n",
    "                         hovertemplate = info,\n",
    "                         hovertext = N['Type'],\n",
    "                         name = 'N+G-'\n",
    "                        )\n",
    ")\n",
    "fig.add_trace(\n",
    "              go.Scatter(x=G['x-Position'], y=G['y-Position'], mode='markers',\n",
    "                         marker = {'color': ['blue']*len(G)},\n",
    "                         hovertemplate = info,\n",
    "                         hovertext = N['Type'],\n",
    "                         name = 'N-G+'\n",
    "                        )\n",
    ")\n",
    "fig.update_layout({'xaxis':{'title_text':'x-Position'},\n",
    "                   'yaxis':{'title_text':'y-Position'}}\n",
    ")\n",
    "fig.show()"
   ]
  },
  {
   "cell_type": "markdown",
   "metadata": {},
   "source": [
    "As demonstrated, every part of the legend has to be added as a separate trace in our graph object. Remains the question why one should use `plotly.graph_objs` instead of `plotly.express`. One example might be subploting which is currently not supported by `plotly.express`. A full example of how such a plot might look like is:"
   ]
  },
  {
   "cell_type": "code",
   "execution_count": null,
   "metadata": {},
   "outputs": [],
   "source": [
    "from plotly.subplots import make_subplots\n",
    "import plotly.graph_objects as go\n",
    "import numpy as np\n",
    "\n",
    "# Some data do plot\n",
    "x = np.linspace(0,1,100)\n",
    "y1 = x\n",
    "y2 = x**2\n",
    "y3 = x**(1/2)\n",
    "y4 = x**(1/3)\n",
    "pos = np.random.uniform(10,20,[100,3])\n",
    "\n",
    "# Color scheme and info for bar plot\n",
    "types = ['DP & DN', 'N+G-', 'N-G-']\n",
    "props = [30, 50, 20]\n",
    "colors =['rgba(0.75,0.75,0.75,1)', 'rgba(0.75,0,0.75,1)', 'rgba(0,0.75,0.75,1)']\n",
    "\n",
    "# Initialize subplots\n",
    "fig = make_subplots(rows=2, cols=3,specs=[[{}, {\"rowspan\": 2, \"colspan\": 2, \"type\": \"scatter3d\"}, None],\n",
    "                                          [{}, None, None]])\n",
    "\n",
    "# Hoverinfo for first plot\n",
    "infopcf1 = '<b>PCF maximum (N+G-)</b><br>dist = %{x}<br>PCF = %{y}<extra></extra>'\n",
    "infopcf2 = '<b>PCF minimum (N+G-)</b><br>dist = %{x}<br>PCF = %{y}<extra></extra>'\n",
    "infopcf3 = '<b>PCF minimum (N-G+)</b><br>dist = %{x}<br>PCF = %{y}<extra></extra>'\n",
    "infopcf4 = '<b>PCF maximum (N-G+)</b><br>dist = %{x}<br>PCF = %{y}<extra></extra>'\n",
    "\n",
    "# Add 4 plots to the upper left corner\n",
    "fig.add_trace(\n",
    "    go.Scatter(x=x, y=y1, fill=None, mode='lines', line_color='rgba(0.75,0,0.75,1)', hovertemplate=infopcf1),\n",
    "    row=1, col=1\n",
    ")\n",
    "fig.add_trace(\n",
    "    go.Scatter(x=x, y=y2, fill='tonexty',mode='lines', line_color='rgba(0.75,0,0.75,1)', hovertemplate=infopcf2),\n",
    "    row=1, col=1 \n",
    ")\n",
    "fig.add_trace(\n",
    "    go.Scatter(x=x, y=y3, fill=None, mode='lines', line_color='rgba(0,0.75,0.75,1)', hovertemplate=infopcf3),\n",
    "    row=1, col=1\n",
    ")\n",
    "fig.add_trace(\n",
    "    go.Scatter(x=x, y=y4, fill='tonexty',mode='lines', line_color='rgba(0,0.75,0.75,1)', hovertemplate=infopcf4),\n",
    "    row=1, col=1 \n",
    ")\n",
    "\n",
    "# Add 3 bars to the lower left corner\n",
    "for i in range(3):\n",
    "    fig.add_trace(go.Bar(x=[types[i]], y = [props[i]], name=types[i], marker_color=colors[i]), row=2, col=1)\n",
    "\n",
    "# Define color scheme and info for each point in scatterplot\n",
    "test = []\n",
    "text = []\n",
    "for i in range(len(pos)):\n",
    "    if i%3 == 0:\n",
    "        test.append('rgba(0.75,0.75,0.75,1)')\n",
    "        text.append('<b>DN or DP</b>')\n",
    "    if i%3 == 1:\n",
    "        test.append('rgba(0.75,0,0.75,1)')\n",
    "        text.append('<b>N+G-</b>')\n",
    "    if i%3 == 2:\n",
    "        test.append('rgba(0,0.75,0.75,1)')\n",
    "        text.append('<b>N-G+</b>')\n",
    "\n",
    "# Define hovertext template for each marker\n",
    "info3d = '%{hovertext}<br>x = %{x}<br>y = %{y}<br>z = %{z}<extra></extra>'\n",
    "\n",
    "# Add 3D scatterplot to the right\n",
    "fig.add_trace(\n",
    "    go.Scatter3d(x=pos[:,0],y=pos[:,1],z=pos[:,2], mode='markers', hovertext = text, hovertemplate = info3d,\n",
    "    marker=dict(\n",
    "    size=10,\n",
    "    color=test,\n",
    "    line=dict(\n",
    "        color='black',\n",
    "        width=1\n",
    "    )\n",
    "    )),\n",
    "    row=1, col=2\n",
    ")\n",
    "\n",
    "# Increase figure size, include title and set background color\n",
    "fig.update_layout(height=600, width=900, title_text=\"Title\", paper_bgcolor='rgba(0,0,0,0)',plot_bgcolor='rgba(0,0,0,0)',showlegend=False)\n",
    "\n",
    "# Add x- and y- axes\n",
    "fig.update_layout({'xaxis':{'title_text':'distances','linecolor':'black'},\n",
    "                   'yaxis':{'title_text':'$\\\\rho$','linecolor':'black'},\n",
    "                   'xaxis2':{'title_text':'cell type','linecolor':'black'},\n",
    "                   'yaxis2':{'range': [0, 100],'dtick': 20, 'title_text':'proportions','linecolor':'black'},}\n",
    ")\n",
    "\n",
    "# Remove background and coordinate system in 3D plot\n",
    "fig.update_layout(scene = dict(xaxis = dict(showbackground=False,showticklabels=False,visible=False),\n",
    "                               yaxis = dict(showbackground=False,showticklabels=False,visible=False),\n",
    "                               zaxis = dict(showbackground=False,showticklabels=False,visible=False)))\n",
    "\n",
    "#fig.write_html(\"test.html\")\n",
    "fig.show()"
   ]
  }
 ],
 "metadata": {
  "kernelspec": {
   "display_name": "Python 3",
   "language": "python",
   "name": "python3"
  },
  "language_info": {
   "codemirror_mode": {
    "name": "ipython",
    "version": 3
   },
   "file_extension": ".py",
   "mimetype": "text/x-python",
   "name": "python",
   "nbconvert_exporter": "python",
   "pygments_lexer": "ipython3",
   "version": "3.7.4"
  }
 },
 "nbformat": 4,
 "nbformat_minor": 2
}
