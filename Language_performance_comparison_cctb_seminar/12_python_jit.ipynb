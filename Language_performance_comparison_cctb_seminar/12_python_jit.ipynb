{
 "cells": [
  {
   "cell_type": "code",
   "execution_count": 1,
   "id": "27a5ee21",
   "metadata": {},
   "outputs": [],
   "source": [
    "import numpy as np\n",
    "\n",
    "from numba import jit"
   ]
  },
  {
   "cell_type": "code",
   "execution_count": 2,
   "id": "8fe9f73d",
   "metadata": {},
   "outputs": [],
   "source": [
    "@jit(nopython=True)\n",
    "def python_logistic(N):\n",
    "    # Parameters\n",
    "    T = 25\n",
    "    u0 = 1e-5\n",
    "    # Right hand side function\n",
    "    f = lambda u: u*(1-u)\n",
    "    # Discretization\n",
    "    t = np.linspace(0,T,N)\n",
    "    dt = T/N\n",
    "    # Time stepping\n",
    "    u = np.empty(N)\n",
    "    u[0] = u0\n",
    "    for k in range(N-1):\n",
    "        u[k+1] = u[k] + dt*f(u[k])\n",
    "    return(t,u)"
   ]
  },
  {
   "cell_type": "code",
   "execution_count": 3,
   "id": "8d2fa1dd",
   "metadata": {},
   "outputs": [
    {
     "data": {
      "image/png": "[encoded data removed]",
      "text/plain": [
       "<Figure size 432x288 with 1 Axes>"
      ]
     },
     "metadata": {
      "needs_background": "light"
     },
     "output_type": "display_data"
    }
   ],
   "source": [
    "T,U = python_logistic(1000)\n",
    "import matplotlib.pyplot as plt\n",
    "plt.plot(T,U,lw=2)\n",
    "plt.xlabel('$t$')\n",
    "plt.ylabel('$u(t)$')\n",
    "plt.show()"
   ]
  },
  {
   "cell_type": "code",
   "execution_count": 4,
   "id": "bbb58aef",
   "metadata": {},
   "outputs": [
    {
     "name": "stdout",
     "output_type": "stream",
     "text": [
      "4.99 µs ± 20.4 ns per loop (mean ± std. dev. of 7 runs, 100000 loops each)\n"
     ]
    }
   ],
   "source": [
    "%timeit python_logistic(1000)"
   ]
  },
  {
   "cell_type": "code",
   "execution_count": null,
   "id": "4c7ffe46",
   "metadata": {},
   "outputs": [],
   "source": []
  }
 ],
 "metadata": {
  "kernelspec": {
   "display_name": "Python 3",
   "language": "python",
   "name": "python3"
  },
  "language_info": {
   "codemirror_mode": {
    "name": "ipython",
    "version": 3
   },
   "file_extension": ".py",
   "mimetype": "text/x-python",
   "name": "python",
   "nbconvert_exporter": "python",
   "pygments_lexer": "ipython3",
   "version": "3.8.5"
  }
 },
 "nbformat": 4,
 "nbformat_minor": 5
}
