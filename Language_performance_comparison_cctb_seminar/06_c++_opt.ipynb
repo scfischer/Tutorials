{
 "cells": [
  {
   "cell_type": "code",
   "execution_count": 1,
   "id": "24326f4e-fa2f-4a42-83ba-d47e57fa7876",
   "metadata": {},
   "outputs": [],
   "source": [
    "#include <iostream>\n",
    "#include <vector>\n",
    "#include <chrono>\n",
    "\n",
    "using namespace std;"
   ]
  },
  {
   "cell_type": "code",
   "execution_count": 2,
   "id": "a37e27e6-a6ea-40b3-bc1c-1277a4408875",
   "metadata": {},
   "outputs": [],
   "source": [
    "static double f(double u){\n",
    "    return u*(1.0-u);\n",
    "}"
   ]
  },
  {
   "cell_type": "code",
   "execution_count": 3,
   "id": "b8572892-b566-4ee9-b7c3-cdabb0b1132e",
   "metadata": {},
   "outputs": [],
   "source": [
    "void Cplusplus_logistic(int N, vector<double>& u, double dt){\n",
    "    // Parameters\n",
    "    int T = 25;\n",
    "    double u0 = 1e-5;\n",
    "    // Discretization\n",
    "    // Time stepping\n",
    "    u[0] = u0;\n",
    "    for(auto i = u.begin(); i != u.end(); ++i){\n",
    "        *(i+1) = *i + dt*f(*i);\n",
    "    }\n",
    "    return (u);    \n",
    "}"
   ]
  },
  {
   "cell_type": "code",
   "execution_count": 4,
   "id": "bdf11993-4371-4008-b750-44c69c0cfcda",
   "metadata": {},
   "outputs": [],
   "source": [
    "vector<double> u(1000, 0.0);\n",
    "double dt = 25.0/1000;"
   ]
  },
  {
   "cell_type": "code",
   "execution_count": 5,
   "id": "58c6a962-2a01-4c73-97e0-5faff9d91468",
   "metadata": {},
   "outputs": [
    {
     "name": "stdout",
     "output_type": "stream",
     "text": [
      "23.9745μs\n"
     ]
    }
   ],
   "source": [
    "using std::chrono::high_resolution_clock;\n",
    "using std::chrono::duration_cast;\n",
    "using std::chrono::duration;\n",
    "using std::chrono::milliseconds;\n",
    "\n",
    "auto t1 = high_resolution_clock::now();\n",
    "double rounds=1e5;\n",
    "for(int i=0; i<rounds; i++){\n",
    "    Cplusplus_logistic(1000, u, dt);\n",
    "}\n",
    "auto t2 = high_resolution_clock::now();\n",
    "\n",
    "/* Getting number of milliseconds as an integer. */\n",
    "auto ms_int = duration_cast<milliseconds>(t2 - t1);\n",
    "\n",
    "/* Getting number of milliseconds as a double. */\n",
    "duration<double, std::milli> ms_double = t2 - t1;\n",
    "\n",
    "std::cout << ms_double.count()*1000/rounds << \"μs\\n\";\n",
    "//std::cout << ms_double.count() << \"ms\";"
   ]
  },
  {
   "cell_type": "code",
   "execution_count": null,
   "id": "05f38f1b-bdb2-408e-84e1-04394696d6b7",
   "metadata": {},
   "outputs": [],
   "source": []
  }
 ],
 "metadata": {
  "kernelspec": {
   "display_name": "C++14",
   "language": "C++14",
   "name": "xcpp14"
  },
  "language_info": {
   "codemirror_mode": "text/x-c++src",
   "file_extension": ".cpp",
   "mimetype": "text/x-c++src",
   "name": "c++",
   "version": "14"
  }
 },
 "nbformat": 4,
 "nbformat_minor": 5
}
