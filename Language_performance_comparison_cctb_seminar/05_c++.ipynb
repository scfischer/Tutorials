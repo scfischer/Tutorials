{
 "cells": [
  {
   "cell_type": "markdown",
   "id": "6269d7bf",
   "metadata": {},
   "source": [
    "# Performance of C++\n",
    "### Exemplary Problem: Numerical solution of logistic differential equation \n",
    "$\\frac{\\partial U(t)}{\\partial t} = U(t)(1-U(t))$ \n",
    " \n",
    "Strategy: \n",
    "Transform into discrete sequence and calculate the single steps for sufficient small time steps $\\Delta t$.\n",
    "\n",
    "$U(t+\\Delta t) =U(t)+ U(t)(1-U(t))\\Delta t $"
   ]
  },
  {
   "cell_type": "markdown",
   "id": "e1bb8da5",
   "metadata": {},
   "source": [
    "First step: Import neccesary packages"
   ]
  },
  {
   "cell_type": "code",
   "execution_count": 1,
   "id": "7daeff4e",
   "metadata": {},
   "outputs": [],
   "source": [
    "#include <vector>\n",
    "#include <iostream>\n",
    "#include <chrono>"
   ]
  },
  {
   "cell_type": "code",
   "execution_count": 2,
   "id": "6c5db3f1",
   "metadata": {},
   "outputs": [],
   "source": [
    "using namespace std;"
   ]
  },
  {
   "cell_type": "markdown",
   "id": "26702bf2",
   "metadata": {},
   "source": [
    "Second step: Define neccessary functions for discretisation with number of steps N as input argument"
   ]
  },
  {
   "cell_type": "code",
   "execution_count": 3,
   "id": "fe25ce85",
   "metadata": {},
   "outputs": [],
   "source": [
    "void LinearSpacedArray(std::vector<double> &xs, double start, double end, std::size_t N)\n",
    "{\n",
    "    double stepsize = (end - start) / static_cast<double>(N-1);\n",
    "    std::vector<double>::iterator x;\n",
    "    double val;\n",
    "    for (x = xs.begin(), val = start; x != xs.end(); ++x, val += stepsize) {\n",
    "        *x = val;\n",
    "    }\n",
    "}"
   ]
  },
  {
   "cell_type": "code",
   "execution_count": 4,
   "id": "491cca1e",
   "metadata": {},
   "outputs": [],
   "source": [
    "// Right hand side function\n",
    "double f(double u){\n",
    "    return u*(1-u);\n",
    "}"
   ]
  },
  {
   "cell_type": "code",
   "execution_count": 5,
   "id": "eba9c417",
   "metadata": {},
   "outputs": [],
   "source": [
    "std::vector<double> Cplusplus_logistic(int N){\n",
    "    // Parameters\n",
    "    int T = 25;\n",
    "    double u0 = 1e-5;\n",
    "    // Discretization\n",
    "    vector<double> t(N);\n",
    "    LinearSpacedArray(t, 0, T, N);\n",
    "    double dt = (double)T/N;\n",
    "    // Time stepping\n",
    "    vector<double> u(N);\n",
    "    vector<double>::iterator i;\n",
    "    i = u.begin();\n",
    "    *i = u0;\n",
    "    for(i = u.begin(); i!=u.end(); ++i){\n",
    "        auto j = i;\n",
    "        j++;\n",
    "        *j = *i + dt*f(*i);\n",
    "    }\n",
    "    return(u);    \n",
    "}"
   ]
  },
  {
   "cell_type": "markdown",
   "id": "409d2dff",
   "metadata": {},
   "source": [
    "Third step: Run the function, to so see if everthing works as planned  "
   ]
  },
  {
   "cell_type": "code",
   "execution_count": 6,
   "id": "c84dfa91",
   "metadata": {},
   "outputs": [],
   "source": [
    "Cplusplus_logistic(1000); "
   ]
  },
  {
   "cell_type": "markdown",
   "id": "3d037a47",
   "metadata": {},
   "source": [
    "Fourth step: Benchmark the function "
   ]
  },
  {
   "cell_type": "code",
   "execution_count": 7,
   "id": "d71cb111",
   "metadata": {},
   "outputs": [
    {
     "name": "stdout",
     "output_type": "stream",
     "text": [
      "38.1294μs\n"
     ]
    }
   ],
   "source": [
    "// adapted from https://stackoverflow.com/a/22387757/4969760\n",
    "using std::chrono::high_resolution_clock;\n",
    "using std::chrono::duration_cast;\n",
    "using std::chrono::duration;\n",
    "using std::chrono::milliseconds;\n",
    "\n",
    "auto t1 = high_resolution_clock::now();\n",
    "double rounds=1e5;\n",
    "for(int i=0; i<rounds; i++){\n",
    "    Cplusplus_logistic(1000);\n",
    "}\n",
    "auto t2 = high_resolution_clock::now();\n",
    "\n",
    "/* Getting number of milliseconds as an integer. */\n",
    "auto ms_int = duration_cast<milliseconds>(t2 - t1);\n",
    "\n",
    "/* Getting number of milliseconds as a double. */\n",
    "duration<double, std::milli> ms_double = t2 - t1;\n",
    "\n",
    "std::cout << ms_double.count()*1000/rounds << \"μs\\n\";\n",
    "// std::cout << ms_double.count() << \"ms\";\n"
   ]
  },
  {
   "cell_type": "code",
   "execution_count": null,
   "id": "0331928c-076b-423f-b2b4-3b801582a2a1",
   "metadata": {},
   "outputs": [],
   "source": []
  }
 ],
 "metadata": {
  "kernelspec": {
   "display_name": "C++14",
   "language": "C++14",
   "name": "xcpp14"
  },
  "language_info": {
   "codemirror_mode": "text/x-c++src",
   "file_extension": ".cpp",
   "mimetype": "text/x-c++src",
   "name": "c++",
   "version": "14"
  }
 },
 "nbformat": 4,
 "nbformat_minor": 5
}
