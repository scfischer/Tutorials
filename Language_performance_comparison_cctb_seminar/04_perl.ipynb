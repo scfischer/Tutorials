{
 "cells": [
  {
   "cell_type": "markdown",
   "id": "29cd4cde",
   "metadata": {},
   "source": [
    "# Performance of Perl \n",
    "### Exemplary Problem: Numerical solution of logistic differential equation \n",
    "$\\frac{\\partial U(t)}{\\partial t} = U(t)(1-U(t))$ \n",
    " \n",
    "Strategy: \n",
    "Transform into discrete sequence and calculate the single steps for sufficient small time steps $\\Delta t$.\n",
    "\n",
    "$U(t+\\Delta t) =U(t)+ U(t)(1-U(t))\\Delta t $"
   ]
  },
  {
   "cell_type": "markdown",
   "id": "20260615",
   "metadata": {},
   "source": [
    "First step: Install and import neccesary packages"
   ]
  },
  {
   "cell_type": "code",
   "execution_count": 1,
   "id": "a6604a2c",
   "metadata": {},
   "outputs": [],
   "source": [
    "use PDL::Core;\n",
    "use PDL;\n",
    "use Benchmark qw(:all) ;"
   ]
  },
  {
   "cell_type": "markdown",
   "id": "4d97a05f",
   "metadata": {},
   "source": [
    "Second step: Define function for discretisation with number of steps N as input argument"
   ]
  },
  {
   "cell_type": "code",
   "execution_count": 2,
   "id": "d2457c4a",
   "metadata": {},
   "outputs": [],
   "source": [
    "sub perl_logistic{\n",
    "    $N = shift(@_);\n",
    "    # Parameters\n",
    "    $T = 25;\n",
    "    $u0 = 1e-5;\n",
    "    # Right hand side function\n",
    "    sub f{\n",
    "        return $_[0]*(1-$_[0]);\n",
    "    }\n",
    "    # Discretization\n",
    "    $t = zeroes($N)->xlinvals(0,$T);\n",
    "    $dt = $T/$N;\n",
    "    # Time stepping\n",
    "    @u = ();\n",
    "    $#u = $N-1;\n",
    "    $u[0] = $u0;\n",
    "    for($i=0; $i<$N-1; $i++){\n",
    "        $u[$i+1] = $u[$i] + $dt*f($u[$i]);\n",
    "    }\n",
    "    return($t,\\@u);\n",
    "}"
   ]
  },
  {
   "cell_type": "markdown",
   "id": "c17e2571",
   "metadata": {},
   "source": [
    "Third step: Run the function, to so see if everthing works as planned  "
   ]
  },
  {
   "cell_type": "code",
   "execution_count": 3,
   "id": "db6890be",
   "metadata": {},
   "outputs": [],
   "source": [
    "($a,$b) = perl_logistic(1000)"
   ]
  },
  {
   "cell_type": "markdown",
   "id": "0468607a",
   "metadata": {},
   "source": [
    "Fourth step: Benchmark the function "
   ]
  },
  {
   "cell_type": "code",
   "execution_count": 4,
   "id": "afd87c3f",
   "metadata": {},
   "outputs": [
    {
     "name": "stdout",
     "output_type": "stream",
     "text": [
      "timethis 10000:  3 wallclock secs ( 2.31 usr +  0.00 sys =  2.31 CPU) @ 4329.00/s (n=10000)\n"
     ]
    },
    {
     "data": {
      "text/plain": [
       "Benchmark=ARRAY(0x563a98975df0)"
      ]
     },
     "execution_count": 4,
     "metadata": {},
     "output_type": "execute_result"
    }
   ],
   "source": [
    "$t = timethis (10000, \"perl_logistic(1000)\");"
   ]
  },
  {
   "cell_type": "code",
   "execution_count": 5,
   "id": "c5140108-285e-448d-89e9-29e499889bc9",
   "metadata": {},
   "outputs": [
    {
     "data": {
      "text/plain": [
       "231"
      ]
     },
     "execution_count": 5,
     "metadata": {},
     "output_type": "execute_result"
    }
   ],
   "source": [
    "# time per iteration in µs\n",
    "$t->[1]/$t->[5] * 1e6"
   ]
  },
  {
   "cell_type": "code",
   "execution_count": null,
   "id": "0f9b6e5d-ca36-41fc-ab28-807e89bdb59e",
   "metadata": {},
   "outputs": [],
   "source": []
  }
 ],
 "metadata": {
  "kernelspec": {
   "display_name": "IPerl 0.010",
   "language": "perl",
   "name": "iperl"
  },
  "language_info": {
   "file_extension": ".pl",
   "mimetype": "text/x-perl",
   "name": "perl",
   "version": "5.30.0"
  }
 },
 "nbformat": 4,
 "nbformat_minor": 5
}
