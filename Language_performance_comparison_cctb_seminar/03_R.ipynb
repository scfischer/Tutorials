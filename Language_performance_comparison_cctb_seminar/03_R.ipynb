{
 "cells": [
  {
   "cell_type": "markdown",
   "metadata": {},
   "source": [
    "# Performance of R\n",
    "### Exemplary Problem: Numerical solution of logistic differential equation \n",
    "$\\frac{\\partial U(t)}{\\partial t} = U(t)(1-U(t))$ \n",
    " \n",
    "Strategy: \n",
    "Transform into discrete sequence and calculate the single steps for sufficient small time steps $\\Delta t$.\n",
    "\n",
    "$U(t+\\Delta t) =U(t)+ U(t)(1-U(t))\\Delta t $"
   ]
  },
  {
   "cell_type": "markdown",
   "metadata": {},
   "source": [
    "First step: Install and import neccesary packages"
   ]
  },
  {
   "cell_type": "code",
   "execution_count": 1,
   "metadata": {},
   "outputs": [],
   "source": [
    "#install.packages(\"devtools\")\n",
    "#devtools::install_github(\"eddelbuettel/rbenchmark\")\n",
    "library(rbenchmark)"
   ]
  },
  {
   "cell_type": "markdown",
   "metadata": {},
   "source": [
    "Second step: Define function for discretisation with number of steps N as input argument"
   ]
  },
  {
   "cell_type": "code",
   "execution_count": 2,
   "metadata": {},
   "outputs": [],
   "source": [
    "R_logistic <- function(N){\n",
    "    # Parameters\n",
    "    T = 25\n",
    "    u0 = 1e-5\n",
    "    # Right hand side function\n",
    "    f = function(u) {u*(1-u)}\n",
    "    # Discretization\n",
    "    t = seq(0, T, length.out=N)\n",
    "    dt = t[2]-t[1]\n",
    "    # Time stepping\n",
    "    u = vector(mode=\"numeric\", length=N)\n",
    "    u[1] = u0\n",
    "    for (k in 1:(N-1)){\n",
    "        u[k+1] = u[k] + dt*f(u[k])\n",
    "    }\n",
    "    return(list(t,u))\n",
    "}"
   ]
  },
  {
   "cell_type": "markdown",
   "metadata": {},
   "source": [
    "Third step: Visualize the problem, so see if everthing works as planned  "
   ]
  },
  {
   "cell_type": "code",
   "execution_count": 3,
   "metadata": {},
   "outputs": [],
   "source": [
    "result = R_logistic(1000)"
   ]
  },
  {
   "cell_type": "code",
   "execution_count": 4,
   "metadata": {},
   "outputs": [
    {
     "data": {
      "image/png": "[encoded data removed]",
      "text/plain": [
       "plot without title"
      ]
     },
     "metadata": {
      "image/png": {
       "height": 420,
       "width": 420
      }
     },
     "output_type": "display_data"
    }
   ],
   "source": [
    "plot(result[[1]],result[[2]],'l',xlab=\"t\",ylab=\"U\")"
   ]
  },
  {
   "cell_type": "markdown",
   "metadata": {},
   "source": [
    "Fourth step: Benchmark the function "
   ]
  },
  {
   "cell_type": "code",
   "execution_count": 5,
   "metadata": {},
   "outputs": [],
   "source": [
    "result = benchmark(logistic={x<-R_logistic(1000)},replications=10000)"
   ]
  },
  {
   "cell_type": "code",
   "execution_count": 6,
   "metadata": {},
   "outputs": [
    {
     "data": {
      "text/html": [
       "<table class=\"dataframe\">\n",
       "<caption>A data.frame: 1 × 1</caption>\n",
       "<thead>\n",
       "\t<tr><th></th><th scope=col>elapsed</th></tr>\n",
       "\t<tr><th></th><th scope=col>&lt;dbl&gt;</th></tr>\n",
       "</thead>\n",
       "<tbody>\n",
       "\t<tr><th scope=row>1</th><td>648.8</td></tr>\n",
       "</tbody>\n",
       "</table>\n"
      ],
      "text/latex": [
       "A data.frame: 1 × 1\n",
       "\\begin{tabular}{r|l}\n",
       "  & elapsed\\\\\n",
       "  & <dbl>\\\\\n",
       "\\hline\n",
       "\t1 & 648.8\\\\\n",
       "\\end{tabular}\n"
      ],
      "text/markdown": [
       "\n",
       "A data.frame: 1 × 1\n",
       "\n",
       "| <!--/--> | elapsed &lt;dbl&gt; |\n",
       "|---|---|\n",
       "| 1 | 648.8 |\n",
       "\n"
      ],
      "text/plain": [
       "  elapsed\n",
       "1 648.8  "
      ]
     },
     "metadata": {},
     "output_type": "display_data"
    }
   ],
   "source": [
    "#result in µs\n",
    "result[\"elapsed\"]/10000*1000*1000"
   ]
  },
  {
   "cell_type": "code",
   "execution_count": null,
   "metadata": {},
   "outputs": [],
   "source": []
  }
 ],
 "metadata": {
  "kernelspec": {
   "display_name": "R",
   "language": "R",
   "name": "ir"
  },
  "language_info": {
   "codemirror_mode": "r",
   "file_extension": ".r",
   "mimetype": "text/x-r-source",
   "name": "R",
   "pygments_lexer": "r",
   "version": "4.1.2"
  }
 },
 "nbformat": 4,
 "nbformat_minor": 4
}
