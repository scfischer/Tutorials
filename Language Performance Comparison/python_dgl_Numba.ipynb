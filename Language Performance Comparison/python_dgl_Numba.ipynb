{
 "cells": [
  {
   "cell_type": "markdown",
   "metadata": {},
   "source": [
    "# Performance of Python with Numba\n",
    "### Exemplary Problem: Numerical solution of logistic differential equation \n",
    "$\\frac{\\partial U(t)}{\\partial t} = U(t)(1-U(t))$ \n",
    " \n",
    "Strategy: \n",
    "Transform into discrete sequence and calculate the single steps for sufficient small time steps $\\Delta t$.\n",
    "\n",
    "$U(t+\\Delta t) =U(t)+ U(t)(1-U(t))\\Delta t $"
   ]
  },
  {
   "cell_type": "markdown",
   "metadata": {},
   "source": [
    "First step: Import neccesary packages"
   ]
  },
  {
   "cell_type": "code",
   "execution_count": 8,
   "metadata": {},
   "outputs": [],
   "source": [
    "import numpy as np\n",
    "from time import time\n",
    "import matplotlib.pyplot as plt\n",
    "from numba import njit"
   ]
  },
  {
   "cell_type": "markdown",
   "metadata": {},
   "source": [
    "Second step: Define function for discretisation with number of steps N as input argument. Add @njit() macro to just in time compile the function with numba. "
   ]
  },
  {
   "cell_type": "code",
   "execution_count": 5,
   "metadata": {},
   "outputs": [],
   "source": [
    "@njit()\n",
    "def python_logistic(N):\n",
    "    # Parameters\n",
    "    T = 25\n",
    "    u0 = 1e-5\n",
    "    # Right hand side function\n",
    "    f = lambda u: u*(1-u)\n",
    "    # Discretization\n",
    "    t = np.linspace(0,T,N)\n",
    "    dt = t[1]-t[0]\n",
    "    # Time stepping\n",
    "    u = np.empty(len(t))\n",
    "    u[0] = u0\n",
    "    for k in range(len(t)-1):\n",
    "        u[k+1] = u[k] + dt*f(u[k])\n",
    "    return(t,u)"
   ]
  },
  {
   "cell_type": "markdown",
   "metadata": {},
   "source": [
    "Third step: Visualize the problem, so see if everthing works as planned  "
   ]
  },
  {
   "cell_type": "code",
   "execution_count": 6,
   "metadata": {},
   "outputs": [
    {
     "data": {
      "image/png": "[encoded data removed]",
      "text/plain": [
       "<Figure size 432x288 with 1 Axes>"
      ]
     },
     "metadata": {
      "needs_background": "light"
     },
     "output_type": "display_data"
    }
   ],
   "source": [
    "T,U = python_logistic(1000)\n",
    "plt.plot(T,U,lw=2)\n",
    "plt.xlabel('$t$')\n",
    "plt.ylabel('$u(t)$')\n",
    "plt.show()"
   ]
  },
  {
   "cell_type": "markdown",
   "metadata": {},
   "source": [
    "Fourth step: Benchmark the function "
   ]
  },
  {
   "cell_type": "code",
   "execution_count": 9,
   "metadata": {},
   "outputs": [
    {
     "name": "stdout",
     "output_type": "stream",
     "text": [
      "4.43 µs ± 4.56 ns per loop (mean ± std. dev. of 7 runs, 100000 loops each)\n"
     ]
    }
   ],
   "source": [
    "%timeit python_logistic(1000)"
   ]
  },
  {
   "cell_type": "markdown",
   "metadata": {},
   "source": [
    "Fifth step: Realize that Numba can make Python fast "
   ]
  },
  {
   "cell_type": "code",
   "execution_count": null,
   "metadata": {},
   "outputs": [],
   "source": []
  },
  {
   "cell_type": "code",
   "execution_count": null,
   "metadata": {},
   "outputs": [],
   "source": []
  }
 ],
 "metadata": {
  "kernelspec": {
   "display_name": "Python 3",
   "language": "python",
   "name": "python3"
  },
  "language_info": {
   "codemirror_mode": {
    "name": "ipython",
    "version": 3
   },
   "file_extension": ".py",
   "mimetype": "text/x-python",
   "name": "python",
   "nbconvert_exporter": "python",
   "pygments_lexer": "ipython3",
   "version": "3.8.5"
  }
 },
 "nbformat": 4,
 "nbformat_minor": 4
}
