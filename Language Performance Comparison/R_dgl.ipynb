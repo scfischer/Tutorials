{
 "cells": [
  {
   "cell_type": "markdown",
   "metadata": {},
   "source": [
    "# Performance of R\n",
    "### Exemplary Problem: Numerical solution of logistic differential equation \n",
    "$\\frac{\\partial U(t)}{\\partial t} = U(t)(1-U(t))$ \n",
    " \n",
    "Strategy: \n",
    "Transform into discrete sequence and calculate the single steps for sufficient small time steps $\\Delta t$.\n",
    "\n",
    "$U(t+\\Delta t) =U(t)+ U(t)(1-U(t))\\Delta t $"
   ]
  },
  {
   "cell_type": "markdown",
   "metadata": {},
   "source": [
    "First step: Install and import neccesary packages"
   ]
  },
  {
   "cell_type": "code",
   "execution_count": 15,
   "metadata": {},
   "outputs": [
    {
     "name": "stdout",
     "output_type": "stream",
     "text": [
      "\n",
      "  There is a binary version available but the source version is later:\n",
      "         binary source needs_compilation\n",
      "devtools  2.4.1  2.4.2             FALSE\n",
      "\n"
     ]
    },
    {
     "name": "stderr",
     "output_type": "stream",
     "text": [
      "installing the source package 'devtools'\n",
      "\n",
      "WARNING: Rtools is required to build R packages, but is not currently installed.\n",
      "\n",
      "Please download and install Rtools 3.5 from https://cran.r-project.org/bin/windows/Rtools/.\n",
      "Skipping install of 'rbenchmark' from a github remote, the SHA1 (a2039510) has not changed since last install.\n",
      "  Use `force = TRUE` to force installation\n"
     ]
    }
   ],
   "source": [
    "install.packages(\"devtools\")\n",
    "devtools::install_github(\"eddelbuettel/rbenchmark\")\n",
    "library(rbenchmark)\n"
   ]
  },
  {
   "cell_type": "markdown",
   "metadata": {},
   "source": [
    "Second step: Define function for discretisation with number of steps N as input argument"
   ]
  },
  {
   "cell_type": "code",
   "execution_count": 16,
   "metadata": {},
   "outputs": [],
   "source": [
    "R_logistic <- function(N){\n",
    "    # Parameters\n",
    "    T = 25\n",
    "    u0 = 1e-5\n",
    "    # Right hand side function\n",
    "    f = function(u) {u*(1-u)}\n",
    "    # Discretization\n",
    "    t = seq(0, T, length.out=N)\n",
    "    dt = t[2]-t[1]\n",
    "    # Time stepping\n",
    "    u = vector(mode=\"numeric\", length=N)\n",
    "    u[1] = u0\n",
    "    for (k in 1:(N-1)){\n",
    "        u[k+1] = u[k] + dt*f(u[k])\n",
    "    }\n",
    "    return(list(t,u))\n",
    "}"
   ]
  },
  {
   "cell_type": "markdown",
   "metadata": {},
   "source": [
    "Third step: Visualize the problem, so see if everthing works as planned  "
   ]
  },
  {
   "cell_type": "code",
   "execution_count": 17,
   "metadata": {},
   "outputs": [],
   "source": [
    "result = R_logistic(1000)"
   ]
  },
  {
   "cell_type": "code",
   "execution_count": 18,
   "metadata": {},
   "outputs": [
    {
     "data": {
      "text/html": [
       "1000"
      ],
      "text/latex": [
       "1000"
      ],
      "text/markdown": [
       "1000"
      ],
      "text/plain": [
       "[1] 1000"
      ]
     },
     "metadata": {},
     "output_type": "display_data"
    }
   ],
   "source": [
    "length(result[[2]])"
   ]
  },
  {
   "cell_type": "code",
   "execution_count": 19,
   "metadata": {},
   "outputs": [
    {
     "data": {
      "image/png": "[encoded data removed]",
      "text/plain": [
       "plot without title"
      ]
     },
     "metadata": {},
     "output_type": "display_data"
    }
   ],
   "source": [
    "plot(result[[1]],result[[2]],'l',xlab=\"t\",ylab=\"U\")"
   ]
  },
  {
   "cell_type": "markdown",
   "metadata": {},
   "source": [
    "Fourth step: Benchmark the function "
   ]
  },
  {
   "cell_type": "code",
   "execution_count": 20,
   "metadata": {},
   "outputs": [],
   "source": [
    "result = benchmark(logistic={x<-R_logistic(1000)},replications=10000)"
   ]
  },
  {
   "cell_type": "code",
   "execution_count": 21,
   "metadata": {},
   "outputs": [
    {
     "data": {
      "text/html": [
       "<table>\n",
       "<thead><tr><th scope=col>elapsed</th></tr></thead>\n",
       "<tbody>\n",
       "\t<tr><td>478</td></tr>\n",
       "</tbody>\n",
       "</table>\n"
      ],
      "text/latex": [
       "\\begin{tabular}{r|l}\n",
       " elapsed\\\\\n",
       "\\hline\n",
       "\t 478\\\\\n",
       "\\end{tabular}\n"
      ],
      "text/markdown": [
       "\n",
       "| elapsed |\n",
       "|---|\n",
       "| 478 |\n",
       "\n"
      ],
      "text/plain": [
       "  elapsed\n",
       "1 478    "
      ]
     },
     "metadata": {},
     "output_type": "display_data"
    }
   ],
   "source": [
    "#result in µs\n",
    "result[\"elapsed\"]/10000*1000*1000"
   ]
  },
  {
   "cell_type": "markdown",
   "metadata": {},
   "source": [
    "Fifth step: Realize that R is also slow but not as fucking slow as python"
   ]
  },
  {
   "cell_type": "code",
   "execution_count": null,
   "metadata": {},
   "outputs": [],
   "source": []
  }
 ],
 "metadata": {
  "kernelspec": {
   "display_name": "R",
   "language": "R",
   "name": "ir"
  },
  "language_info": {
   "codemirror_mode": "r",
   "file_extension": ".r",
   "mimetype": "text/x-r-source",
   "name": "R",
   "pygments_lexer": "r",
   "version": "3.6.1"
  }
 },
 "nbformat": 4,
 "nbformat_minor": 4
}
