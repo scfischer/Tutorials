{
 "cells": [
  {
   "cell_type": "markdown",
   "metadata": {},
   "source": [
    "# Performance of Perl \n",
    "### Exemplary Problem: Numerical solution of logistic differential equation \n",
    "$\\frac{\\partial U(t)}{\\partial t} = U(t)(1-U(t))$ \n",
    " \n",
    "Strategy: \n",
    "Transform into discrete sequence and calculate the single steps for sufficient small time steps $\\Delta t$.\n",
    "\n",
    "$U(t+\\Delta t) =U(t)+ U(t)(1-U(t))\\Delta t $"
   ]
  },
  {
   "cell_type": "markdown",
   "metadata": {},
   "source": [
    "First step: Install and import neccesary packages"
   ]
  },
  {
   "cell_type": "code",
   "execution_count": null,
   "metadata": {},
   "outputs": [],
   "source": [
    "use PDL::Core;\n",
    "use Benchmark qw(:all) ;"
   ]
  },
  {
   "cell_type": "markdown",
   "metadata": {},
   "source": [
    "Second step: Define function for discretisation with number of steps N as input argument"
   ]
  },
  {
   "cell_type": "code",
   "execution_count": 98,
   "metadata": {},
   "outputs": [],
   "source": [
    "sub perl_logistic{\n",
    "    $N = shift(@_);\n",
    "    # Parameters\n",
    "    $T = 25;\n",
    "    $u0 = 1e-5;\n",
    "    # Right hand side function\n",
    "    sub f{\n",
    "        return $_[0]*(1-$_[0]);\n",
    "    }\n",
    "    # Discretization\n",
    "    $t = zeroes($N)->xlinvals(0,$T);\n",
    "    $dt = $T/$N;\n",
    "    # Time stepping\n",
    "    @u = ();\n",
    "    $#u = $N-1;\n",
    "    $u[0] = $u0;\n",
    "    for($i=0; $i<$N-1; $i++){\n",
    "        $u[$i+1] = $u[$i] + $dt*f($u[$i]);\n",
    "    }\n",
    "    return($t,\\@u);\n",
    "}"
   ]
  },
  {
   "cell_type": "markdown",
   "metadata": {},
   "source": [
    "Third step: Run the function, to so see if everthing works as planned  "
   ]
  },
  {
   "cell_type": "code",
   "execution_count": 93,
   "metadata": {},
   "outputs": [
    {
     "name": "stdout",
     "output_type": "stream",
     "text": [
      "1e-05"
     ]
    }
   ],
   "source": [
    "($a,$b) = perl_logistic(1000)"
   ]
  },
  {
   "cell_type": "markdown",
   "metadata": {},
   "source": [
    "Fourth step: Benchmark the function "
   ]
  },
  {
   "cell_type": "code",
   "execution_count": 99,
   "metadata": {},
   "outputs": [
    {
     "name": "stdout",
     "output_type": "stream",
     "text": [
      "timethis 10000:  4 wallclock secs ( 3.34 usr +  0.00 sys =  3.34 CPU) @ 2994.01/s (n=10000)\n"
     ]
    },
    {
     "data": {
      "text/plain": [
       "Benchmark=ARRAY(0x5580873a4fa0)"
      ]
     },
     "execution_count": 99,
     "metadata": {},
     "output_type": "execute_result"
    }
   ],
   "source": [
    "timethis (10000, \"perl_logistic(1000)\");"
   ]
  },
  {
   "cell_type": "code",
   "execution_count": 100,
   "metadata": {},
   "outputs": [
    {
     "data": {
      "text/plain": [
       "0.000334000220440145"
      ]
     },
     "execution_count": 100,
     "metadata": {},
     "output_type": "execute_result"
    }
   ],
   "source": [
    "1/2994.01"
   ]
  },
  {
   "cell_type": "markdown",
   "metadata": {},
   "source": [
    "Fifth step: Realize that Perl is not only as slow as Python or R but additionally ugly as hell. "
   ]
  },
  {
   "cell_type": "code",
   "execution_count": null,
   "metadata": {},
   "outputs": [],
   "source": []
  }
 ],
 "metadata": {
  "kernelspec": {
   "display_name": "IPerl 0.010",
   "language": "perl",
   "name": "iperl"
  },
  "language_info": {
   "file_extension": ".pl",
   "mimetype": "text/x-perl",
   "name": "perl",
   "version": "5.30.0"
  }
 },
 "nbformat": 4,
 "nbformat_minor": 5
}
